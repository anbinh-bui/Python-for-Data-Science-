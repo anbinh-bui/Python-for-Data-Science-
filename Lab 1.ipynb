{
 "cells": [
  {
   "cell_type": "markdown",
   "id": "683fc817-5313-4953-ad15-b9a4eefad2d7",
   "metadata": {},
   "source": [
    "## LAB 1"
   ]
  },
  {
   "cell_type": "code",
   "execution_count": 16,
   "id": "ed50b065-ef97-47bd-878f-05b8c15629fa",
   "metadata": {},
   "outputs": [],
   "source": [
    "# import packages\n",
    "import math\n",
    "import string as str\n",
    "import time\n",
    "\n",
    "import numpy as np\n",
    "\n",
    "import matplotlib.pyplot as plt\n",
    "%matplotlib inline"
   ]
  },
  {
   "cell_type": "markdown",
   "id": "c854864e-9b29-44ca-a370-38c254e64ef4",
   "metadata": {},
   "source": [
    "## Strings"
   ]
  },
  {
   "cell_type": "markdown",
   "id": "249747f5-8c5d-4b72-ac36-ea9050ee156a",
   "metadata": {},
   "source": [
    "### Problem 1"
   ]
  },
  {
   "cell_type": "code",
   "execution_count": 17,
   "id": "bc8f1a7b-aacd-4b4f-a0a6-fbde4b87473d",
   "metadata": {},
   "outputs": [
    {
     "data": {
      "text/plain": [
       "'abcdefghijklmnopqrstuvwxyz'"
      ]
     },
     "execution_count": 17,
     "metadata": {},
     "output_type": "execute_result"
    }
   ],
   "source": [
    "alphabet_string = str.ascii_lowercase\n",
    "alphabet_string"
   ]
  },
  {
   "cell_type": "code",
   "execution_count": 18,
   "id": "c33a2165-2ddf-4d56-89b5-756b32014967",
   "metadata": {},
   "outputs": [
    {
     "data": {
      "text/plain": [
       "'cfilorux'"
      ]
     },
     "execution_count": 18,
     "metadata": {},
     "output_type": "execute_result"
    }
   ],
   "source": [
    "alphabet_string[2:-2:3]"
   ]
  },
  {
   "cell_type": "code",
   "execution_count": 19,
   "id": "b3c64515-1c13-419b-be3a-079f9c44791c",
   "metadata": {},
   "outputs": [
    {
     "data": {
      "text/plain": [
       "'vxz'"
      ]
     },
     "execution_count": 19,
     "metadata": {},
     "output_type": "execute_result"
    }
   ],
   "source": [
    "alphabet_string[-5::2]"
   ]
  },
  {
   "cell_type": "code",
   "execution_count": 20,
   "id": "734931a2-8a0f-4cb7-b466-33ae650c2c5a",
   "metadata": {},
   "outputs": [
    {
     "data": {
      "text/plain": [
       "'zxvt'"
      ]
     },
     "execution_count": 20,
     "metadata": {},
     "output_type": "execute_result"
    }
   ],
   "source": [
    "alphabet_string[:-8:-2]"
   ]
  },
  {
   "cell_type": "markdown",
   "id": "b4f4aaaa-955a-4139-a1e2-93f23a6bc177",
   "metadata": {},
   "source": [
    "### Problem 2"
   ]
  },
  {
   "cell_type": "code",
   "execution_count": 21,
   "id": "e71cf264-1260-4d90-b6eb-a093bc2fe1cc",
   "metadata": {},
   "outputs": [
    {
     "data": {
      "text/plain": [
       "' XHEC DataScience for Business '"
      ]
     },
     "execution_count": 21,
     "metadata": {},
     "output_type": "execute_result"
    }
   ],
   "source": [
    "original_string = \" XHEC DataScience for Business \"\n",
    "original_string"
   ]
  },
  {
   "cell_type": "code",
   "execution_count": 22,
   "id": "01faf5c7-110e-4acc-ba74-1f9dc86b6e74",
   "metadata": {},
   "outputs": [
    {
     "data": {
      "text/plain": [
       "' xhec datascience for business '"
      ]
     },
     "execution_count": 22,
     "metadata": {},
     "output_type": "execute_result"
    }
   ],
   "source": [
    "lowercase_string = original_string.lower()\n",
    "lowercase_string"
   ]
  },
  {
   "cell_type": "code",
   "execution_count": 23,
   "id": "03dad2cc-c314-459b-848f-25e6bea8f46d",
   "metadata": {},
   "outputs": [
    {
     "data": {
      "text/plain": [
       "'XHEC DataScience for Busines'"
      ]
     },
     "execution_count": 23,
     "metadata": {},
     "output_type": "execute_result"
    }
   ],
   "source": [
    "no_space_string = original_string[1:-2]\n",
    "#can also do: no_space_string = original_string.rstrip(\" \").lstrip(\" \")\n",
    "no_space_string"
   ]
  },
  {
   "cell_type": "code",
   "execution_count": 24,
   "id": "6efd7e79-7cfc-4a82-a0b6-409198dc8027",
   "metadata": {},
   "outputs": [
    {
     "data": {
      "text/plain": [
       "' XHEC DataSciEncE for BusinEss '"
      ]
     },
     "execution_count": 24,
     "metadata": {},
     "output_type": "execute_result"
    }
   ],
   "source": [
    "e_replaced_E_string = original_string.replace(\"e\", \"E\")\n",
    "e_replaced_E_string"
   ]
  },
  {
   "cell_type": "markdown",
   "id": "158fbc60-19ec-482f-a00c-dc5cde8ad426",
   "metadata": {},
   "source": [
    "### Problem 3"
   ]
  },
  {
   "cell_type": "code",
   "execution_count": 25,
   "id": "08588351-bf01-4b5d-8111-62b43b10191b",
   "metadata": {},
   "outputs": [
    {
     "name": "stdout",
     "output_type": "stream",
     "text": [
      "PI with 9 decimal digits: 3.141592654\n"
     ]
    }
   ],
   "source": [
    "print(f\"PI with 9 decimal digits: {math.pi:.9f}\")"
   ]
  },
  {
   "cell_type": "markdown",
   "id": "ee06766f-1fdf-48da-98b9-756451a1b439",
   "metadata": {},
   "source": [
    "### Problem 4"
   ]
  },
  {
   "cell_type": "code",
   "execution_count": 26,
   "id": "22f24e95-47f0-4981-be29-67e8dd00e73a",
   "metadata": {},
   "outputs": [
    {
     "name": "stdout",
     "output_type": "stream",
     "text": [
      "{'h': 1, 'e': 1, 'l': 3, 'o': 2, ' ': 1, 'w': 1, 'r': 1, 'd': 1, '!': 2}\n"
     ]
    }
   ],
   "source": [
    "s = \"HelLo WorLd!!\"\n",
    "\n",
    "dict = {}\n",
    "\n",
    "for c in s.lower():\n",
    "    dict[c] = 0\n",
    "\n",
    "for c in s.lower():\n",
    "    dict[c] += 1\n",
    "\n",
    "print(dict)"
   ]
  },
  {
   "cell_type": "markdown",
   "id": "c7484001-a0a6-4856-baa9-7d1a722c99d9",
   "metadata": {},
   "source": [
    "## Fast computations with numpy ; basic plots."
   ]
  },
  {
   "cell_type": "markdown",
   "id": "dbe817f5-4515-4804-8d8a-d4d35d469bca",
   "metadata": {},
   "source": [
    "### Problem 5:"
   ]
  },
  {
   "cell_type": "code",
   "execution_count": 28,
   "id": "c50e35af-0963-4c1d-8935-e82abe9a7615",
   "metadata": {},
   "outputs": [
    {
     "name": "stdout",
     "output_type": "stream",
     "text": [
      "Floating precision: 15\n",
      "'0.1+100-100' is the same as '0.1'? False\n",
      "'0.1+100-100' is close to '0.1'? True\n"
     ]
    }
   ],
   "source": [
    "num = 0.1 + 100 - 100\n",
    "num2 = 0.1\n",
    "\n",
    "print(f\"Floating precision: {np.finfo(np.dtype(np.float64)).precision}\")\n",
    "\n",
    "print(f\"'0.1+100-100' is the same as '0.1'? {num == num2}\")\n",
    "\n",
    "print(f\"'0.1+100-100' is close to '0.1'? {np.isclose(num, 0.1)}\")"
   ]
  },
  {
   "cell_type": "markdown",
   "id": "b919bd23-5739-45c1-9736-72c8aaebfc0b",
   "metadata": {},
   "source": [
    "**<u>Answer</u>**: Because of the float precision, the calculation and the number are slightly different."
   ]
  },
  {
   "cell_type": "markdown",
   "id": "63bbefd1-3243-4a39-8895-1a9bfefca881",
   "metadata": {},
   "source": [
    "### Problem 6:"
   ]
  },
  {
   "cell_type": "code",
   "execution_count": 29,
   "id": "215cb3f6-fd50-402e-b421-3a6d09c5ffdc",
   "metadata": {},
   "outputs": [
    {
     "name": "stdout",
     "output_type": "stream",
     "text": [
      "576 ns ± 98 ns per loop (mean ± std. dev. of 7 runs, 1,000,000 loops each)\n"
     ]
    }
   ],
   "source": [
    "%timeit array_py = [n**2 for n in range(1, 12)]"
   ]
  },
  {
   "cell_type": "code",
   "execution_count": 30,
   "id": "591beabd-908c-4b66-b9c5-d3480a7a4fa1",
   "metadata": {},
   "outputs": [
    {
     "name": "stdout",
     "output_type": "stream",
     "text": [
      "948 ns ± 30.5 ns per loop (mean ± std. dev. of 7 runs, 1,000,000 loops each)\n"
     ]
    }
   ],
   "source": [
    "%timeit array_np = np.arange(1, 12)**2"
   ]
  },
  {
   "cell_type": "markdown",
   "id": "92af1a00-7bf4-4ede-8f8d-4b981762c92e",
   "metadata": {},
   "source": [
    "**<u>Answer</u>**: \n",
    "\n",
    "One would expect numpy array to be faster but the contrary happens. This, however, is not the case when we increase the number of iterations in the for loop as numpy arrays are optimized for performance and can handle large amounts of data. "
   ]
  },
  {
   "cell_type": "markdown",
   "id": "c8adfe7d-11c2-494d-9a63-7f04f717d715",
   "metadata": {},
   "source": [
    "### Problem 7"
   ]
  },
  {
   "cell_type": "code",
   "execution_count": 31,
   "id": "d628e79f-7ac4-41c6-a91f-9ab44cf7d7ba",
   "metadata": {},
   "outputs": [
    {
     "data": {
      "text/plain": [
       "array([ 2,  5,  8, 11, 14])"
      ]
     },
     "execution_count": 31,
     "metadata": {},
     "output_type": "execute_result"
    }
   ],
   "source": [
    "arr_integers = np.arange(2, 15, 3)\n",
    "arr_integers"
   ]
  },
  {
   "cell_type": "code",
   "execution_count": 32,
   "id": "13acb74c-cd62-4daf-ac77-d29ac926feb0",
   "metadata": {},
   "outputs": [
    {
     "data": {
      "text/plain": [
       "array([0.        , 0.07142857, 0.14285714, 0.21428571, 0.28571429,\n",
       "       0.35714286, 0.42857143, 0.5       , 0.57142857, 0.64285714,\n",
       "       0.71428571, 0.78571429, 0.85714286, 0.92857143, 1.        ])"
      ]
     },
     "execution_count": 32,
     "metadata": {},
     "output_type": "execute_result"
    }
   ],
   "source": [
    "arr_equispaced = np.linspace(0, 1, num=15)\n",
    "arr_equispaced"
   ]
  },
  {
   "cell_type": "markdown",
   "id": "2e7504ed-5e2e-4591-bbd6-5c7ae279ac80",
   "metadata": {},
   "source": [
    "### Problem 8"
   ]
  },
  {
   "cell_type": "code",
   "execution_count": 45,
   "id": "f8db1c48-b98c-4a73-b0a2-c005b69fa9dd",
   "metadata": {},
   "outputs": [],
   "source": [
    "def prod_loop(n):\n",
    "    prod = 2\n",
    "    for k in range(1, n):\n",
    "        prod *= 4 * k**2 / (4 * k**2 - 1)\n",
    "    return prod\n",
    "\n",
    "def prod_numpy(n):\n",
    "    arr = np.arange(1, n)\n",
    "    return 2 * np.prod(4 * arr**2 / (4 * arr**2 - 1))"
   ]
  },
  {
   "cell_type": "code",
   "execution_count": 64,
   "id": "9efc5630-a414-4186-8bac-2fecf5122da9",
   "metadata": {},
   "outputs": [
    {
     "name": "stdout",
     "output_type": "stream",
     "text": [
      "Result with loop: 3.14158s\n",
      "Time with loop: 0.02697s\n"
     ]
    }
   ],
   "source": [
    "start_time = time.time()\n",
    "\n",
    "print(f\"Result with loop: {prod_loop(100_000):.5f}s\") #Display only 5 signmificant decimals\n",
    "\n",
    "stop_time = time.time()\n",
    "\n",
    "time_diff = stop_time - start_time\n",
    "\n",
    "print(f\"Time with loop: {time_diff:.5f}s\") #Display only 5 significant decimals\n"
   ]
  },
  {
   "cell_type": "code",
   "execution_count": 65,
   "id": "ec49667b-d090-48e9-b87c-0cd461c908a2",
   "metadata": {},
   "outputs": [
    {
     "name": "stdout",
     "output_type": "stream",
     "text": [
      "Result with loop: 3.14158s\n",
      "Time with numpy.prod: 0.0034411s\n"
     ]
    }
   ],
   "source": [
    "start_time = time.time()\n",
    "\n",
    "print(f\"Result with numpy: {prod_numpy(100_000):.5f}s\") #Display only 5 significant decimals\n",
    "\n",
    "stop_time = time.time()\n",
    "\n",
    "time_diff = stop_time - start_time\n",
    "\n",
    "print(f\"Time with numpy.prod: {time_diff:.5f}s\") #Display only 5 significant decimals\n"
   ]
  },
  {
   "cell_type": "code",
   "execution_count": 36,
   "id": "d913aca8-b828-43d4-a005-d7a235503471",
   "metadata": {},
   "outputs": [
    {
     "name": "stdout",
     "output_type": "stream",
     "text": [
      "21 ms ± 1.83 ms per loop (mean ± std. dev. of 7 runs, 10 loops each)\n",
      "712 μs ± 22.3 μs per loop (mean ± std. dev. of 7 runs, 1,000 loops each)\n"
     ]
    }
   ],
   "source": [
    "%timeit prod_loop(100_000)\n",
    "%timeit prod_numpy(100_000)"
   ]
  },
  {
   "cell_type": "markdown",
   "id": "0e7b9bee-e62f-4a89-9ee5-5ea04eadd44b",
   "metadata": {},
   "source": [
    "**<u>Answer</u>**: The **%timeit** command is more detailed (reruns the code multiple times and provides the standard deviation and mean of each loop).  **%timeit** also makes the code easier to read."
   ]
  },
  {
   "cell_type": "markdown",
   "id": "c6b9e9ff-f8e5-4f16-a809-cf54e58742f5",
   "metadata": {},
   "source": [
    "### Problem 9"
   ]
  },
  {
   "cell_type": "code",
   "execution_count": 37,
   "id": "26b18e32-89ca-4fb6-ba53-a977e56a7db9",
   "metadata": {},
   "outputs": [
    {
     "data": {
      "text/plain": [
       "array([0, 1, 2, 3, 4])"
      ]
     },
     "execution_count": 37,
     "metadata": {},
     "output_type": "execute_result"
    }
   ],
   "source": [
    "arr_arange = np.arange(5)\n",
    "arr_arange"
   ]
  },
  {
   "cell_type": "code",
   "execution_count": 38,
   "id": "7974d10d-bbdd-4bdc-845e-474c16fffe79",
   "metadata": {},
   "outputs": [
    {
     "data": {
      "text/plain": [
       "array([1., 1., 1., 1., 1.])"
      ]
     },
     "execution_count": 38,
     "metadata": {},
     "output_type": "execute_result"
    }
   ],
   "source": [
    "arr_ones = np.ones(5)\n",
    "arr_ones"
   ]
  },
  {
   "cell_type": "code",
   "execution_count": 41,
   "id": "3d4b1760-984b-42ad-b96c-fcac68ece4f6",
   "metadata": {},
   "outputs": [
    {
     "name": "stdout",
     "output_type": "stream",
     "text": [
      "Dot product of [0 1 2 3 4] and [1. 1. 1. 1. 1.]: 10.0\n",
      "Shape of [0 1 2 3 4]: (5,)\n",
      "Dimension of [0 1 2 3 4]: 1\n",
      "Shape of [0 1 2 3 4].T: (5,)\n"
     ]
    }
   ],
   "source": [
    "print(f\"Dot product of {arr_arange} and {arr_ones}: {np.dot(arr_arange, arr_ones)}\")\n",
    "print(f\"Shape of {arr_arange}: {arr_arange.shape}\")\n",
    "print(f\"Dimension of {arr_arange}: {arr_arange.ndim}\")\n",
    "print(f\"Shape of {arr_arange}.T: {arr_arange.T.shape}\")"
   ]
  },
  {
   "cell_type": "markdown",
   "id": "8e6445c9-c5be-4815-8d52-73257f16894c",
   "metadata": {},
   "source": [
    "**<u>Answer</u>**: Both arrays are 1D. Transposing a 1D array does nothing because a transposed 1D array is still 1D."
   ]
  },
  {
   "cell_type": "markdown",
   "id": "4480d67d-882f-470b-a662-66a3d506c02d",
   "metadata": {},
   "source": [
    "### Problem 10"
   ]
  },
  {
   "cell_type": "code",
   "execution_count": null,
   "id": "dbbb862b-d219-45ba-927a-bd4dfe58f662",
   "metadata": {},
   "outputs": [
    {
     "data": {
      "text/plain": [
       "array([[ 0,  1,  2,  3,  4,  5],\n",
       "       [ 6,  7,  8,  9, 10, 11]])"
      ]
     },
     "execution_count": 25,
     "metadata": {},
     "output_type": "execute_result"
    }
   ],
   "source": [
    "# Reshapes a 1D array from 0 to 11 into a 2D array with 2 columns of 6 elements each\n",
    "M26 = np.arange(12).reshape(2, 6)\n",
    "M26"
   ]
  },
  {
   "cell_type": "code",
   "execution_count": null,
   "id": "66fd5b7b-b034-426f-a8a9-4f42a39c6f52",
   "metadata": {},
   "outputs": [
    {
     "data": {
      "text/plain": [
       "array([[0, 3],\n",
       "       [6, 9]])"
      ]
     },
     "execution_count": 26,
     "metadata": {},
     "output_type": "execute_result"
    }
   ],
   "source": [
    "# This slicing iterates over the first axis and iterates over the second axis in intervals of 3\n",
    "M26[:, ::3]"
   ]
  },
  {
   "cell_type": "code",
   "execution_count": null,
   "id": "e1073015-13cb-49c9-a6c2-6002f2641098",
   "metadata": {},
   "outputs": [
    {
     "data": {
      "text/plain": [
       "array([0, 1, 2])"
      ]
     },
     "execution_count": 27,
     "metadata": {},
     "output_type": "execute_result"
    }
   ],
   "source": [
    "arr1 = np.arange(3)\n",
    "arr1"
   ]
  },
  {
   "cell_type": "code",
   "execution_count": null,
   "id": "700df230-9ffb-4bb1-9ca7-a4144c99cff7",
   "metadata": {},
   "outputs": [
    {
     "data": {
      "text/plain": [
       "array([0, 1, 2, 3])"
      ]
     },
     "execution_count": 28,
     "metadata": {},
     "output_type": "execute_result"
    }
   ],
   "source": [
    "arr2 = np.arange(4)\n",
    "arr2"
   ]
  },
  {
   "cell_type": "code",
   "execution_count": null,
   "id": "e3a80602-02d6-47d7-b6d8-17e59d2f1aa4",
   "metadata": {},
   "outputs": [
    {
     "data": {
      "text/plain": [
       "array([[0, 0, 0],\n",
       "       [0, 1, 2],\n",
       "       [0, 2, 4],\n",
       "       [0, 3, 6]])"
      ]
     },
     "execution_count": 29,
     "metadata": {},
     "output_type": "execute_result"
    }
   ],
   "source": [
    "M12 = arr1 * arr2[:, np.newaxis]\n",
    "M12"
   ]
  },
  {
   "cell_type": "markdown",
   "id": "d44e2f77-9062-4eb8-b95f-30449ff9c501",
   "metadata": {},
   "source": [
    "**<u>Answer</u>**: arr1 has shape (3,) and arr2 has shape (4,). Adding [:, np.newaxis] transforms the shape of arr2 into (4,1) which is broadcastable with (3,)."
   ]
  },
  {
   "cell_type": "markdown",
   "id": "7df62e3c-0e83-437c-a369-ae863d57d5a1",
   "metadata": {},
   "source": [
    "### Problem 11"
   ]
  },
  {
   "cell_type": "code",
   "execution_count": null,
   "id": "b62c7485-f69d-47c0-9082-a279a3e77347",
   "metadata": {},
   "outputs": [
    {
     "name": "stdout",
     "output_type": "stream",
     "text": [
      "Original matrix:\n",
      "[[-0.09162199  0.99021713  0.53442984  0.80784112 -0.72277505  0.47886034]\n",
      " [-0.07604288 -0.7863154  -0.25859795  0.80672384  0.01729057 -0.25332767]\n",
      " [ 0.35796624  0.95223923  0.56632694 -0.36467743  0.94123945 -0.56981861]\n",
      " [ 0.67692599 -0.7058515  -0.61284301 -0.6733321   0.49557366  0.9016367 ]\n",
      " [-0.70673177 -0.56591634 -0.02752292  0.39292018  0.40868854  0.40418332]]\n",
      "\n",
      "Modified matrix:\n",
      "[[-2.07205625  0.99021713 -1.44600442  0.80784112 -2.7032093   0.47886034]\n",
      " [ 1.49658793 -0.7863154   1.31403286  0.80672384  1.58992138 -0.25332767]\n",
      " [-1.54651222  0.95223923 -1.33815152 -0.36467743 -0.96323901 -0.56981861]\n",
      " [ 2.08862899 -0.7058515   0.79885999 -0.6733321   1.90727666  0.9016367 ]\n",
      " [ 0.42510091 -0.56591634  1.10430977  0.39292018  1.54052123  0.40418332]]\n"
     ]
    }
   ],
   "source": [
    "M = np.random.uniform(-1, 1, size=[5, 6])\n",
    "print(f\"Original matrix:\\n{M}\\n\")\n",
    "\n",
    "M[:, ::2] -= 2 * M[:, 1:2]\n",
    "print(f\"Modified matrix:\\n{M}\")"
   ]
  },
  {
   "cell_type": "markdown",
   "id": "90587191-1122-4919-9244-969040eb992c",
   "metadata": {},
   "source": [
    "### Problem 12"
   ]
  },
  {
   "cell_type": "code",
   "execution_count": null,
   "id": "6b451185-8d55-4da2-bdfe-72ace1b6535c",
   "metadata": {},
   "outputs": [
    {
     "name": "stdout",
     "output_type": "stream",
     "text": [
      "Matrix without negative values: \n",
      "\n",
      "[[0.         0.99021713 0.         0.80784112 0.         0.47886034]\n",
      " [1.49658793 0.         1.31403286 0.80672384 1.58992138 0.        ]\n",
      " [0.         0.95223923 0.         0.         0.         0.        ]\n",
      " [2.08862899 0.         0.79885999 0.         1.90727666 0.9016367 ]\n",
      " [0.42510091 0.         1.10430977 0.39292018 1.54052123 0.40418332]]\n",
      "\n",
      " Mean of each row: [0.37948643 0.86787767 0.15870654 0.94940039 0.6445059 ]\n",
      "\n",
      "Mean subtracted from rows: \n",
      "\n",
      "[[-0.37948643  0.6107307  -0.37948643  0.42835469 -0.37948643  0.09937391]\n",
      " [ 0.62871026 -0.86787767  0.44615519 -0.06115382  0.72204371 -0.86787767]\n",
      " [-0.15870654  0.79353269 -0.15870654 -0.15870654 -0.15870654 -0.15870654]\n",
      " [ 1.1392286  -0.94940039 -0.1505404  -0.94940039  0.95787627 -0.04776369]\n",
      " [-0.21940499 -0.6445059   0.45980386 -0.25158573  0.89601533 -0.24032258]]\n"
     ]
    }
   ],
   "source": [
    "M[M < 0] = 0\n",
    "print(f\"Matrix without negative values: \\n\\n{M}\")\n",
    "\n",
    "mean_row = np.mean(M, axis=1)\n",
    "print(f\"\\n Mean of each row: {mean_row}\\n\")\n",
    "\n",
    "print(f\"Mean subtracted from rows: \\n\\n{M - mean_row[:, np.newaxis]}\")"
   ]
  },
  {
   "cell_type": "markdown",
   "id": "51d35600-015d-4004-a391-2dabd9a759b4",
   "metadata": {},
   "source": [
    "### Problem 13"
   ]
  },
  {
   "cell_type": "code",
   "execution_count": null,
   "id": "c70eb340-2871-42bd-add3-7b87c899719c",
   "metadata": {},
   "outputs": [
    {
     "name": "stdout",
     "output_type": "stream",
     "text": [
      "Matrix G:\n",
      "[[ 2.33033947 -0.20609415  1.78597994 -0.59625909 -0.13527676  0.62946475\n",
      "   0.04895608  0.00968828  1.89317062 -0.10698536]\n",
      " [-0.20609415  1.35624989 -1.03603256  0.50883282 -0.31737265  0.86090328\n",
      "  -0.04396981 -0.40155189 -0.4456222   0.18542358]\n",
      " [ 1.78597994 -1.03603256  2.50110759 -1.24335557 -0.11435516 -0.20380388\n",
      "   0.68817117  1.18094354  1.70089285  0.17876501]\n",
      " [-0.59625909  0.50883282 -1.24335557  1.83560246  0.50351067  0.42458906\n",
      "  -0.302481   -0.98860634 -1.15640317 -0.42173248]\n",
      " [-0.13527676 -0.31737265 -0.11435516  0.50351067  0.41324826  0.03243858\n",
      "   0.10230365 -0.34195961 -0.44163865 -0.30875569]\n",
      " [ 0.62946475  0.86090328 -0.20380388  0.42458906  0.03243858  1.21508024\n",
      "   0.43398705 -0.51757442 -0.15492656 -0.10584255]\n",
      " [ 0.04895608 -0.04396981  0.68817117 -0.302481    0.10230365  0.43398705\n",
      "   1.43342272  0.89118453 -0.50253898  0.22650348]\n",
      " [ 0.00968828 -0.40155189  1.18094354 -0.98860634 -0.34195961 -0.51757442\n",
      "   0.89118453  1.63934548  0.32451707  0.59994155]\n",
      " [ 1.89317062 -0.4456222   1.70089285 -1.15640317 -0.44163865 -0.15492656\n",
      "  -0.50253898  0.32451707  2.22323273  0.11533261]\n",
      " [-0.10698536  0.18542358  0.17876501 -0.42173248 -0.30875569 -0.10584255\n",
      "   0.22650348  0.59994155  0.11533261  0.34338325]]\n",
      "\n"
     ]
    }
   ],
   "source": [
    "M = np.random.uniform(-1, 1, size=[5, 10])\n",
    "G = M.T @ M\n",
    "\n",
    "print(f\"Matrix G:\\n{G}\\n\")"
   ]
  },
  {
   "cell_type": "code",
   "execution_count": null,
   "id": "210284d0-81e8-42c9-bc56-870af50645fc",
   "metadata": {},
   "outputs": [
    {
     "data": {
      "text/plain": [
       "True"
      ]
     },
     "execution_count": 33,
     "metadata": {},
     "output_type": "execute_result"
    }
   ],
   "source": [
    "np.allclose(G, G.T) # Check if it is symmetric"
   ]
  },
  {
   "cell_type": "code",
   "execution_count": null,
   "id": "0e500c4c-098a-4560-86c1-e326644c6169",
   "metadata": {},
   "outputs": [],
   "source": [
    "G_eigvals = np.linalg.eigvals(G) # Compute the eigenvalues of G"
   ]
  },
  {
   "cell_type": "code",
   "execution_count": null,
   "id": "d14fb40d-1fc6-499b-85c6-93aaa75adb37",
   "metadata": {},
   "outputs": [
    {
     "data": {
      "text/plain": [
       "False"
      ]
     },
     "execution_count": 35,
     "metadata": {},
     "output_type": "execute_result"
    }
   ],
   "source": [
    "np.all(G_eigvals >= 0) # Check if eigenvalues are all positive or zero?"
   ]
  },
  {
   "cell_type": "code",
   "execution_count": null,
   "id": "d03284a4-7683-4c0d-a87d-ccc3c0e18ac1",
   "metadata": {},
   "outputs": [
    {
     "data": {
      "text/plain": [
       "False"
      ]
     },
     "execution_count": 36,
     "metadata": {},
     "output_type": "execute_result"
    }
   ],
   "source": [
    "np.all(G_eigvals > 0) # Check if eigenvalues are strictly positive"
   ]
  },
  {
   "cell_type": "markdown",
   "id": "e6a1b720",
   "metadata": {},
   "source": [
    "G is symmetric but since its eigenvalues are not all bigger or equal to zero, G is not positive semi-definite."
   ]
  },
  {
   "cell_type": "code",
   "execution_count": null,
   "id": "7f3e1dfa-4773-436a-a6ce-3966c48dc7bb",
   "metadata": {},
   "outputs": [
    {
     "data": {
      "text/plain": [
       "5"
      ]
     },
     "execution_count": 37,
     "metadata": {},
     "output_type": "execute_result"
    }
   ],
   "source": [
    "np.linalg.matrix_rank(G) # Compute the rank of G"
   ]
  },
  {
   "cell_type": "code",
   "execution_count": null,
   "id": "2d18402e-8fc1-4e64-893d-8b0e4c837178",
   "metadata": {},
   "outputs": [
    {
     "data": {
      "text/plain": [
       "8.513682539044291"
      ]
     },
     "execution_count": 38,
     "metadata": {},
     "output_type": "execute_result"
    }
   ],
   "source": [
    "np.linalg.norm(G) # Compute the Euclidian norm of G"
   ]
  },
  {
   "cell_type": "code",
   "execution_count": null,
   "id": "1f3350da-2dc5-4fc1-89ab-d9f6b8c5cffa",
   "metadata": {},
   "outputs": [
    {
     "data": {
      "text/plain": [
       "7.23171671832732"
      ]
     },
     "execution_count": 39,
     "metadata": {},
     "output_type": "execute_result"
    }
   ],
   "source": [
    "np.linalg.norm(G, ord=2) # Compute the operator norm of G"
   ]
  },
  {
   "cell_type": "code",
   "execution_count": null,
   "id": "0c960f89-43e5-4577-80de-422276172a7f",
   "metadata": {},
   "outputs": [
    {
     "data": {
      "text/plain": [
       "array([0.99172277, 0.66565385, 1.18130644, 0.91330561, 0.30631353,\n",
       "       0.51425994, 0.55096205, 0.7931573 , 1.10821581, 0.29236531])"
      ]
     },
     "execution_count": 40,
     "metadata": {},
     "output_type": "execute_result"
    }
   ],
   "source": [
    "np.std(G, axis=0) # Standard deviation of the columns of G (axis=0)"
   ]
  },
  {
   "cell_type": "markdown",
   "id": "8a9edadf-0f17-4676-ba0b-19b832b5c828",
   "metadata": {},
   "source": [
    "### Problem 14"
   ]
  },
  {
   "cell_type": "code",
   "execution_count": null,
   "id": "f167a4f2-c76a-40a6-bcf8-7f9bc9640559",
   "metadata": {},
   "outputs": [],
   "source": [
    "x = np.linspace(-1, 2, num=200)\n",
    "dim = np.array([2, 3, 4])"
   ]
  },
  {
   "cell_type": "code",
   "execution_count": null,
   "id": "9b772405-968d-4fbe-b6ab-dcbfdcff6183",
   "metadata": {},
   "outputs": [
    {
     "data": {
      "image/png": "[encoded data removed]",
      "text/plain": [
       "<Figure size 640x480 with 1 Axes>"
      ]
     },
     "metadata": {},
     "output_type": "display_data"
    }
   ],
   "source": [
    "for d in dim:\n",
    "    plt.plot(x, x**d, label=f'd = {d}')\n",
    "plt.xlabel('x')\n",
    "plt.ylabel('$x^d$')\n",
    "plt.title('Polynomial curves')\n",
    "plt.grid(True)\n",
    "plt.legend();"
   ]
  },
  {
   "cell_type": "markdown",
   "id": "27507f5c-95ad-4ffd-b5d1-45d0754bf4b4",
   "metadata": {},
   "source": [
    "## Numpy advanced behavior"
   ]
  },
  {
   "cell_type": "markdown",
   "id": "85212293-3654-47de-8b4a-759718c8e379",
   "metadata": {},
   "source": [
    "### Numpy broadcasting"
   ]
  },
  {
   "cell_type": "markdown",
   "id": "8c8b792e-33b0-435f-94f3-7e3cec0dc787",
   "metadata": {},
   "source": [
    "### Problem 15"
   ]
  },
  {
   "cell_type": "code",
   "execution_count": null,
   "id": "a09467db-aefc-4c65-b673-0de4c88b6489",
   "metadata": {},
   "outputs": [
    {
     "data": {
      "text/plain": [
       "array([ 1,  3,  5,  7,  9, 11, 13, 15, 17, 19])"
      ]
     },
     "execution_count": 44,
     "metadata": {},
     "output_type": "execute_result"
    }
   ],
   "source": [
    "arr_np = np.arange(1, 20, 2)\n",
    "arr_np"
   ]
  },
  {
   "cell_type": "code",
   "execution_count": null,
   "id": "a749487b-87b6-42ba-9898-bbd31196841c",
   "metadata": {},
   "outputs": [
    {
     "data": {
      "text/plain": [
       "array([-9., -7., -5., -3., -1.,  1.,  3.,  5.,  7.,  9.])"
      ]
     },
     "execution_count": 45,
     "metadata": {},
     "output_type": "execute_result"
    }
   ],
   "source": [
    "arr_np - np.mean(arr_np)"
   ]
  },
  {
   "cell_type": "markdown",
   "id": "ebc0fb19-a9bc-4220-8702-e647e7fb11c0",
   "metadata": {},
   "source": [
    "### Problem 16"
   ]
  },
  {
   "cell_type": "code",
   "execution_count": null,
   "id": "ca434416-3074-4ac7-bd8e-b5193d0c0187",
   "metadata": {},
   "outputs": [
    {
     "data": {
      "text/plain": [
       "array([[ 0,  1,  2,  3],\n",
       "       [ 4,  5,  6,  7],\n",
       "       [ 8,  9, 10, 11]])"
      ]
     },
     "execution_count": 46,
     "metadata": {},
     "output_type": "execute_result"
    }
   ],
   "source": [
    "arr_34 = np.arange(12).reshape(3,4)\n",
    "arr_34"
   ]
  },
  {
   "cell_type": "code",
   "execution_count": null,
   "id": "b71cc869-7423-4035-b370-2b5a6bfb01c4",
   "metadata": {},
   "outputs": [
    {
     "data": {
      "text/plain": [
       "array([[-4., -4., -4., -4.],\n",
       "       [ 0.,  0.,  0.,  0.],\n",
       "       [ 4.,  4.,  4.,  4.]])"
      ]
     },
     "execution_count": 47,
     "metadata": {},
     "output_type": "execute_result"
    }
   ],
   "source": [
    "# Subtract column wise mean\n",
    "arr_34 - np.mean(arr_34, axis=0)"
   ]
  },
  {
   "cell_type": "code",
   "execution_count": null,
   "id": "53124436-6533-4efa-9985-5224c536fae8",
   "metadata": {},
   "outputs": [
    {
     "data": {
      "text/plain": [
       "array([[-1.5, -0.5,  0.5,  1.5],\n",
       "       [-1.5, -0.5,  0.5,  1.5],\n",
       "       [-1.5, -0.5,  0.5,  1.5]])"
      ]
     },
     "execution_count": 48,
     "metadata": {},
     "output_type": "execute_result"
    }
   ],
   "source": [
    "# Subtract row wise mean\n",
    "arr_34 - np.mean(arr_34, axis=1)[:, None] #Add axis to allow broadcasting"
   ]
  },
  {
   "cell_type": "markdown",
   "id": "459cec08-c6fb-4189-bfc1-c9f8d1112439",
   "metadata": {},
   "source": [
    "### Problem 17"
   ]
  },
  {
   "cell_type": "code",
   "execution_count": null,
   "id": "a44fc8f4-ed84-4b2a-9bbe-e12a4b4186ce",
   "metadata": {},
   "outputs": [],
   "source": [
    "arr_3 = np.arange(3).reshape(3, 1)\n",
    "arr_5 = np.arange(5)"
   ]
  },
  {
   "cell_type": "code",
   "execution_count": null,
   "id": "ad346822-ae1a-4c29-9698-ffb276c7c297",
   "metadata": {},
   "outputs": [
    {
     "data": {
      "text/plain": [
       "array([[0, 0, 0, 0, 0],\n",
       "       [0, 1, 2, 3, 4],\n",
       "       [0, 2, 4, 6, 8]])"
      ]
     },
     "execution_count": 50,
     "metadata": {},
     "output_type": "execute_result"
    }
   ],
   "source": [
    "arr_35 = arr_3 * arr_5\n",
    "arr_35"
   ]
  },
  {
   "cell_type": "markdown",
   "id": "a57cccc6-2177-47cd-822b-630228572a7a",
   "metadata": {},
   "source": [
    "### Value and reference types"
   ]
  },
  {
   "cell_type": "markdown",
   "id": "947b0e99-74bf-45e2-8398-b455628bd826",
   "metadata": {},
   "source": [
    "### Problem 18"
   ]
  },
  {
   "cell_type": "code",
   "execution_count": null,
   "id": "6905b9eb-9556-4a57-8e3f-2b6ecef1ad08",
   "metadata": {},
   "outputs": [
    {
     "name": "stdout",
     "output_type": "stream",
     "text": [
      "id(a) - 4581882256\n",
      "id(b) - 4581870128\n",
      "id(c) - 4581882256\n",
      "\n",
      "Variable values before: a b c - 1000 1000 1000\n",
      "\n",
      "Variable values after: a b c - 1001 1000 1000\n",
      "\n",
      "id(a) - 4581882192\n",
      "id(b) - 4581870128\n",
      "id(c) - 4581882256\n"
     ]
    }
   ],
   "source": [
    "a = 1000\n",
    "print(f'id(a) - {id(a)}')\n",
    "\n",
    "b = 1000\n",
    "print(f'id(b) - {id(b)}')\n",
    "\n",
    "c = a\n",
    "print(f'id(c) - {id(c)}')\n",
    "\n",
    "print(f'\\nVariable values before: a b c -', a, b, c)\n",
    "\n",
    "a += 1\n",
    "\n",
    "print(f'\\nVariable values after: a b c -', a, b, c)\n",
    "\n",
    "print(f'\\nid(a) - {id(a)}')\n",
    "print(f'id(b) - {id(b)}')\n",
    "print(f'id(c) - {id(c)}')"
   ]
  },
  {
   "cell_type": "markdown",
   "id": "36567208-d595-4e91-977d-3935df59cf2f",
   "metadata": {},
   "source": [
    "**<u>Answer</u>**: When creating **c** you point to the same memory space as **a** ( id(c) = id(a) ). When you modify **a**, python creates a new object with the new value of **a** (new memory id)."
   ]
  },
  {
   "cell_type": "markdown",
   "id": "ee4c48b0-f9c8-465a-89e7-1ea6cf7384cf",
   "metadata": {},
   "source": [
    "### Problem 19"
   ]
  },
  {
   "cell_type": "code",
   "execution_count": null,
   "id": "6c306c50-f4e5-458e-aaa3-a6860b584a23",
   "metadata": {},
   "outputs": [
    {
     "name": "stdout",
     "output_type": "stream",
     "text": [
      "id(a) - 4582195728\n",
      "id(b) - 4582195920\n",
      "id(c) - 4582195728\n",
      "\n",
      "Variable values before: a b c - [0 1] [0 1] [0 1]\n",
      "\n",
      "Variable values after: a b c - [1 2] [0 1] [1 2]\n",
      "\n",
      "id(a) - 4582195728\n",
      "id(b) - 4582195920\n",
      "id(c) - 4582195728\n"
     ]
    }
   ],
   "source": [
    "a = np.array([0, 1])\n",
    "print(f'id(a) - {id(a)}')\n",
    "\n",
    "b = np.array([0, 1])\n",
    "print(f'id(b) - {id(b)}')\n",
    "\n",
    "c = a\n",
    "print(f'id(c) - {id(c)}')\n",
    "\n",
    "print(f'\\nVariable values before: a b c -', a, b, c)\n",
    "\n",
    "a += 1\n",
    "\n",
    "print(f'\\nVariable values after: a b c -', a, b, c)\n",
    "\n",
    "print(f'\\nid(a) - {id(a)}')\n",
    "print(f'id(b) - {id(b)}')\n",
    "print(f'id(c) - {id(c)}')"
   ]
  },
  {
   "cell_type": "markdown",
   "id": "c852aba5-99e1-44f1-bf38-a1995c3f301a",
   "metadata": {},
   "source": [
    "**<u>Answer</u>**: When you create **c** again it points to the same object as **a** however in this case **c** was also modified. This happens because python does not create a new array when the variable is modified. Only the elements within the array are updated rather than the whole array."
   ]
  },
  {
   "cell_type": "markdown",
   "id": "386ba2d2-fb29-4503-bd83-8f3c1bc8a627",
   "metadata": {},
   "source": [
    "### Problem 20"
   ]
  },
  {
   "cell_type": "code",
   "execution_count": 43,
   "id": "43db8e8a-6560-4885-a710-7dfb28b156a2",
   "metadata": {},
   "outputs": [],
   "source": [
    "def f(a): \n",
    "    a += 1"
   ]
  },
  {
   "cell_type": "code",
   "execution_count": 44,
   "id": "ad6082c1-9c8f-45d6-9bbe-d74990a4065f",
   "metadata": {},
   "outputs": [
    {
     "name": "stdout",
     "output_type": "stream",
     "text": [
      "1\n"
     ]
    }
   ],
   "source": [
    "a_1 = 1\n",
    "f(a_1)\n",
    "print(a_1)"
   ]
  },
  {
   "cell_type": "code",
   "execution_count": null,
   "id": "1a701a25-705f-44ed-95f7-0704d1342ad2",
   "metadata": {},
   "outputs": [
    {
     "name": "stdout",
     "output_type": "stream",
     "text": [
      "[2. 2. 2. 2. 2. 2. 2. 2. 2. 2.]\n"
     ]
    }
   ],
   "source": [
    "a_ones = np.ones(10)\n",
    "f(a_ones)\n",
    "print(a_ones)"
   ]
  },
  {
   "cell_type": "markdown",
   "id": "7dc38875-4709-417e-939c-17498418af25",
   "metadata": {},
   "source": [
    "**<u>Answer</u>**: For the same reason as before, integers are unmutable and numpy arrays are mutable. This means that when an integer is changed, another object is created. When a numpy array is changed, the object remains the same."
   ]
  },
  {
   "cell_type": "markdown",
   "id": "b8499986-65c3-457a-a3f9-cf6580f4ab15",
   "metadata": {},
   "source": [
    "### Problem 21"
   ]
  },
  {
   "cell_type": "code",
   "execution_count": null,
   "id": "2bb9d057-a765-4bae-977e-51c00f5a901f",
   "metadata": {},
   "outputs": [
    {
     "name": "stdout",
     "output_type": "stream",
     "text": [
      "4582195536\n",
      "4582195536\n"
     ]
    }
   ],
   "source": [
    "a_zeros1 = np.zeros(10)\n",
    "b_ones1 = np.ones(10)\n",
    "\n",
    "a_zeros1 = b_ones1\n",
    "print(id(a_zeros1))\n",
    "print(id(b_ones1))"
   ]
  },
  {
   "cell_type": "code",
   "execution_count": null,
   "id": "bc9bb171-060b-4d07-ba16-a636d514ba20",
   "metadata": {},
   "outputs": [
    {
     "name": "stdout",
     "output_type": "stream",
     "text": [
      "4582011024\n",
      "4582197072\n"
     ]
    }
   ],
   "source": [
    "a_zeros2 = np.zeros(10)\n",
    "b_ones2 = np.ones(10)\n",
    "\n",
    "a_zeros2[:] = b_ones2\n",
    "print(id(a_zeros2))\n",
    "print(id(b_ones2))"
   ]
  },
  {
   "cell_type": "markdown",
   "id": "f4793154-becb-4447-9bb4-58d45fda8802",
   "metadata": {},
   "source": [
    "**<u>Answer</u>**: In the first case **a_zeros1** and **b_zeros1** point to the same object, while for the second case, we are just assigning copies of the values of **b_ones2** to the entries of **a_zeros2** without changing the memory reference of **a_zeros2**."
   ]
  },
  {
   "cell_type": "code",
   "execution_count": null,
   "id": "6ad19b9c-4427-4845-9077-dba2a6bb35d6",
   "metadata": {},
   "outputs": [
    {
     "name": "stdout",
     "output_type": "stream",
     "text": [
      "id before: 4582196880\n",
      "id after: 4582196016\n"
     ]
    }
   ],
   "source": [
    "a_zeros3 = np.zeros(10)\n",
    "print(f'id before: {id(a_zeros3)}')\n",
    "a_zeros3 = a_zeros3 + 1\n",
    "print(f'id after: {id(a_zeros3)}')"
   ]
  },
  {
   "cell_type": "code",
   "execution_count": null,
   "id": "59336253-9c91-4c0e-a2d8-c5e040c83a49",
   "metadata": {},
   "outputs": [
    {
     "name": "stdout",
     "output_type": "stream",
     "text": [
      "id before: 4582197360\n",
      "id after: 4582197360\n"
     ]
    }
   ],
   "source": [
    "a_zeros4 = np.zeros(10)\n",
    "print(f'id before: {id(a_zeros4)}')\n",
    "a_zeros4 += 1\n",
    "print(f'id after: {id(a_zeros4)}')"
   ]
  },
  {
   "cell_type": "markdown",
   "id": "82fe504d-f4af-40a4-80f1-cbe568455669",
   "metadata": {},
   "source": [
    "**<u>Answer</u>**: In the first case **a_zeros3 = a_zeros3 + 1** creates a new array, so its reference changes. In the second case only the elements of the array are updated so the memory id remains the same."
   ]
  }
 ],
 "metadata": {
  "kernelspec": {
   "display_name": "Python 3 (ipykernel)",
   "language": "python",
   "name": "python3"
  },
  "language_info": {
   "codemirror_mode": {
    "name": "ipython",
    "version": 3
   },
   "file_extension": ".py",
   "mimetype": "text/x-python",
   "name": "python",
   "nbconvert_exporter": "python",
   "pygments_lexer": "ipython3",
   "version": "3.12.4"
  }
 },
 "nbformat": 4,
 "nbformat_minor": 5
}
